{
 "cells": [
  {
   "cell_type": "code",
   "execution_count": 5,
   "metadata": {},
   "outputs": [],
   "source": [
    "from keras.models import Sequential\n",
    "from keras.layers import Dense\n",
    "from keras.wrappers.scikit_learn import KerasClassifier\n",
    "from sklearn.model_selection import StratifiedKFold\n",
    "from sklearn.model_selection import cross_val_score\n",
    "import numpy as np\n",
    "import pandas as pd"
   ]
  },
  {
   "cell_type": "code",
   "execution_count": 10,
   "metadata": {},
   "outputs": [],
   "source": [
    "#定义交叉验证方法\n",
    "def create_model():\n",
    "    #创建模型\n",
    "    model=Sequential()\n",
    "    model.add(Dense(12,input_dim=8,kernel_initializer='normal',activation='relu'))\n",
    "    model.add(Dense(8,kernel_initializer='normal',activation='relu'))\n",
    "    model.add(Dense(1,kernel_initializer='normal',activation='sigmoid'))\n",
    "    #编译模型\n",
    "    model.compile(loss='binary_crossentropy',optimizer='adam', metrics=['accuracy'])\n",
    "    return model"
   ]
  },
  {
   "cell_type": "code",
   "execution_count": 11,
   "metadata": {},
   "outputs": [],
   "source": [
    "#随机化并加载数据\n",
    "seed=7\n",
    "np.random.seed(seed)\n",
    "dataset=pd.read_csv(\"diabetes.csv\")\n",
    "X=dataset.iloc[:,0:8]\n",
    "Y=dataset.iloc[:,8]"
   ]
  },
  {
   "cell_type": "code",
   "execution_count": 22,
   "metadata": {},
   "outputs": [
    {
     "name": "stdout",
     "output_type": "stream",
     "text": [
      "Epoch 1/1\n",
      "691/691 [==============================] - 3s 5ms/step - loss: 0.6827 - acc: 0.6397\n",
      "77/77 [==============================] - 2s 21ms/step\n",
      "Epoch 1/1\n",
      "691/691 [==============================] - 4s 5ms/step - loss: 0.6886 - acc: 0.5948\n",
      "77/77 [==============================] - 2s 20ms/step\n",
      "Epoch 1/1\n",
      "691/691 [==============================] - 4s 5ms/step - loss: 0.6860 - acc: 0.6440\n",
      "77/77 [==============================] - 2s 20ms/step\n",
      "Epoch 1/1\n",
      "691/691 [==============================] - 4s 5ms/step - loss: 0.6875 - acc: 0.6512\n",
      "77/77 [==============================] - 2s 20ms/step\n",
      "Epoch 1/1\n",
      "691/691 [==============================] - 4s 5ms/step - loss: 0.6852 - acc: 0.6512\n",
      "77/77 [==============================] - 2s 21ms/step\n",
      "Epoch 1/1\n",
      "691/691 [==============================] - 5s 7ms/step - loss: 0.6846 - acc: 0.6237\n",
      "77/77 [==============================] - 3s 38ms/step\n",
      "Epoch 1/1\n",
      "691/691 [==============================] - 7s 10ms/step - loss: 0.6901 - acc: 0.5991\n",
      "77/77 [==============================] - 2s 20ms/step\n",
      "Epoch 1/1\n",
      "691/691 [==============================] - 4s 5ms/step - loss: 0.6899 - acc: 0.5890\n",
      "77/77 [==============================] - 2s 23ms/step\n",
      "Epoch 1/1\n",
      "692/692 [==============================] - 4s 6ms/step - loss: 0.6863 - acc: 0.6503\n",
      "76/76 [==============================] - 2s 23ms/step\n",
      "Epoch 1/1\n",
      "692/692 [==============================] - 4s 6ms/step - loss: 0.6872 - acc: 0.6474\n",
      "76/76 [==============================] - 2s 22ms/step\n",
      "0.651059470023\n"
     ]
    }
   ],
   "source": [
    "#交叉验证模型\n",
    "model=KerasClassifier(build_fn=create_model, nb_epoch=100, batch_size=20)\n",
    "#n_folds可以定义进行几折交叉验证;shuffle默认False,会对数据产生随机搅动(洗牌)\n",
    "kfold=StratifiedKFold(n_splits=10,shuffle=False,random_state=seed)\n",
    "#第一个参数是分类器;cv表示不同的交叉验证方法；\n",
    "results=cross_val_score(model,X,Y,cv=kfold)\n",
    "#结果即我们的分类模型得到交叉验证10次的平均准确率\n",
    "print(results.mean())"
   ]
  },
  {
   "cell_type": "code",
   "execution_count": null,
   "metadata": {},
   "outputs": [],
   "source": []
  }
 ],
 "metadata": {
  "kernelspec": {
   "display_name": "Python 3",
   "language": "python",
   "name": "python3"
  },
  "language_info": {
   "codemirror_mode": {
    "name": "ipython",
    "version": 3
   },
   "file_extension": ".py",
   "mimetype": "text/x-python",
   "name": "python",
   "nbconvert_exporter": "python",
   "pygments_lexer": "ipython3",
   "version": "3.6.5"
  }
 },
 "nbformat": 4,
 "nbformat_minor": 1
}
