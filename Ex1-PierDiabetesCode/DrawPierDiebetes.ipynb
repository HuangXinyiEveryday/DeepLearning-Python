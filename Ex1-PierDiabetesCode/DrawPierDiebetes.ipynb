{
 "cells": [
  {
   "cell_type": "code",
   "execution_count": 1,
   "metadata": {},
   "outputs": [
    {
     "name": "stderr",
     "output_type": "stream",
     "text": [
      "Using TensorFlow backend.\n"
     ]
    }
   ],
   "source": [
    "from keras.models import Sequential\n",
    "from keras.layers import Dense\n",
    "from keras.wrappers.scikit_learn import KerasClassifier\n",
    "from keras.optimizers import SGD,Adam,RMSprop\n",
    "from keras.utils import np_utils\n",
    "import numpy as np\n",
    "import pandas as pd\n",
    "import keras\n",
    "#绘制acc和loss曲线\n",
    "import matplotlib.pyplot as plt\n",
    "%matplotlib inline"
   ]
  },
  {
   "cell_type": "code",
   "execution_count": 2,
   "metadata": {},
   "outputs": [],
   "source": [
    "#定义一个LossHistory类，保存loss和acc\n",
    "class LossHistory(keras.callbacks.Callback):\n",
    "    def on_train_begin(self,logs={}):\n",
    "        self.losses={'batch':[],'epoch':[]}\n",
    "        self.accuracy={'batch':[],'epoch':[]}\n",
    "        self.val_loss={'batch':[],'epoch':[]}\n",
    "        self.val_acc={'batch':[],'epoch':[]}\n",
    "    \n",
    "    def on_batch_end(self,batch,logs={}):\n",
    "        self.losses['batch'].append(logs.get('loss'))\n",
    "        self.accuracy['batch'].append(logs.get('accuracy'))\n",
    "        self.val_loss['batch'].append(logs.get('val_loss'))\n",
    "        self.val_acc['batch'].append(logs.get('val_acc'))\n",
    "    \n",
    "    def on_epoch_end(self,batch,logs={}):\n",
    "        self.losses['epoch'].append(logs.get('loss'))\n",
    "        self.accuracy['epoch'].append(logs.get('accuracy'))\n",
    "        self.val_loss['epoch'].append(logs.get('val_loss'))\n",
    "        self.val_acc['epoch'].append(logs.get('val_acc'))\n",
    "    \n",
    "    def loss_plot(self,loss_type):\n",
    "        iters=range(len(self.losses[loss_type]))\n",
    "        plt.figure()\n",
    "        #acc曲线\n",
    "        plt.plot(iters,self.accuracy[loss_type],'r',label='trainacc')\n",
    "        #loss曲线\n",
    "        plt.plot(iters,self.losses[loss_type],'g',label='trainloss')\n",
    "        if loss_type =='epoch':\n",
    "            #val_acc曲线\n",
    "            plt.plot(iters,self.val_acc[loss_type],'b',label='trainvalacc')\n",
    "            #val_loss曲线\n",
    "            plt.plot(iters,self.val_loss[loss_type],'k',label='trainvalloss')\n",
    "        plt.grid(True)\n",
    "        plt.xlabel(loss_type)\n",
    "        plt.ylabel('acc-loss')\n",
    "        plt.legend(loc='upper right')\n",
    "        plt.show()"
   ]
  },
  {
   "cell_type": "code",
   "execution_count": 3,
   "metadata": {},
   "outputs": [],
   "source": [
    "#随机化并加载数据\n",
    "seed=7\n",
    "np.random.seed(seed)\n",
    "dataset=pd.read_csv(\"diabetes.csv\")\n",
    "X=dataset.iloc[:,0:8]\n",
    "Y=dataset.iloc[:,8]"
   ]
  },
  {
   "cell_type": "code",
   "execution_count": 4,
   "metadata": {},
   "outputs": [],
   "source": [
    "#创建模型\n",
    "model=Sequential()#实例化Sequential 模型对象\n",
    "#input_dim设置输入层数量，设置为8代表8个输入变量;第一个参数为本层神经元的数量\n",
    "#init=uniform表示权重初始化成一个服从均匀分布的小随机数。Keras 标准均匀分布权重初始值[0,0.5];\n",
    "#init=normal则表示从高斯分布（正态分布）中产生一个小的随机数进行权重初始化。\n",
    "#activation='relu'使用线性整流函数relu，sigmoid是S型函数作为激活函数\n",
    "model.add(Dense(12,input_dim=8,kernel_initializer='normal',activation='relu'))\n",
    "model.add(Dense(8,kernel_initializer='normal',activation='relu'))\n",
    "model.add(Dense(1,kernel_initializer='normal',activation='sigmoid'))"
   ]
  },
  {
   "cell_type": "code",
   "execution_count": 5,
   "metadata": {},
   "outputs": [],
   "source": [
    "#编译模型,根据我们得到的最终优化参数进行训练\n",
    "#定义损失函数和优化算法以及需要收集的数据，‘binary_crossentropy’错误的对数作为损失函数，adam作为优化算法\n",
    "model.compile(loss='binary_crossentropy',optimizer=RMSprop(), metrics=['accuracy'])#训练模型\n"
   ]
  },
  {
   "cell_type": "code",
   "execution_count": 6,
   "metadata": {},
   "outputs": [],
   "source": [
    "#创建一个绘图实例\n",
    "history=LossHistory()"
   ]
  },
  {
   "cell_type": "code",
   "execution_count": 7,
   "metadata": {},
   "outputs": [
    {
     "name": "stdout",
     "output_type": "stream",
     "text": [
      "Train on 768 samples, validate on 768 samples\n",
      "Epoch 1/100\n",
      "768/768 [==============================] - 0s 249us/step - loss: 0.6837 - acc: 0.6341 - val_loss: 0.6714 - val_acc: 0.6510\n",
      "Epoch 2/100\n",
      "768/768 [==============================] - 0s 164us/step - loss: 0.6646 - acc: 0.6510 - val_loss: 0.6591 - val_acc: 0.6510\n",
      "Epoch 3/100\n",
      "768/768 [==============================] - 0s 145us/step - loss: 0.6574 - acc: 0.6419 - val_loss: 0.6531 - val_acc: 0.6563\n",
      "Epoch 4/100\n",
      "768/768 [==============================] - 0s 135us/step - loss: 0.6538 - acc: 0.6471 - val_loss: 0.6490 - val_acc: 0.6497\n",
      "Epoch 5/100\n",
      "768/768 [==============================] - 0s 136us/step - loss: 0.6493 - acc: 0.6536 - val_loss: 0.6436 - val_acc: 0.6523\n",
      "Epoch 6/100\n",
      "768/768 [==============================] - 0s 144us/step - loss: 0.6415 - acc: 0.6563 - val_loss: 0.6443 - val_acc: 0.6641\n",
      "Epoch 7/100\n",
      "768/768 [==============================] - 0s 130us/step - loss: 0.6372 - acc: 0.6562 - val_loss: 0.6340 - val_acc: 0.6589\n",
      "Epoch 8/100\n",
      "768/768 [==============================] - 0s 131us/step - loss: 0.6332 - acc: 0.6549 - val_loss: 0.6248 - val_acc: 0.6602\n",
      "Epoch 9/100\n",
      "768/768 [==============================] - 0s 132us/step - loss: 0.6259 - acc: 0.6719 - val_loss: 0.6174 - val_acc: 0.6758\n",
      "Epoch 10/100\n",
      "768/768 [==============================] - 0s 135us/step - loss: 0.6155 - acc: 0.6927 - val_loss: 0.6108 - val_acc: 0.6888\n",
      "Epoch 11/100\n",
      "768/768 [==============================] - 0s 137us/step - loss: 0.6109 - acc: 0.6732 - val_loss: 0.6031 - val_acc: 0.6992\n",
      "Epoch 12/100\n",
      "768/768 [==============================] - 0s 156us/step - loss: 0.6068 - acc: 0.6979 - val_loss: 0.5969 - val_acc: 0.6927\n",
      "Epoch 13/100\n",
      "768/768 [==============================] - 0s 156us/step - loss: 0.5998 - acc: 0.6862 - val_loss: 0.5950 - val_acc: 0.6979\n",
      "Epoch 14/100\n",
      "768/768 [==============================] - 0s 180us/step - loss: 0.5974 - acc: 0.6940 - val_loss: 0.5893 - val_acc: 0.7122\n",
      "Epoch 15/100\n",
      "768/768 [==============================] - 0s 142us/step - loss: 0.5936 - acc: 0.6992 - val_loss: 0.5909 - val_acc: 0.7174\n",
      "Epoch 16/100\n",
      "768/768 [==============================] - 0s 160us/step - loss: 0.5910 - acc: 0.7161 - val_loss: 0.5791 - val_acc: 0.7135\n",
      "Epoch 17/100\n",
      "768/768 [==============================] - 0s 141us/step - loss: 0.5852 - acc: 0.7096 - val_loss: 0.5862 - val_acc: 0.7122\n",
      "Epoch 18/100\n",
      "768/768 [==============================] - 0s 143us/step - loss: 0.5811 - acc: 0.6940 - val_loss: 0.5724 - val_acc: 0.7253\n",
      "Epoch 19/100\n",
      "768/768 [==============================] - 0s 129us/step - loss: 0.5767 - acc: 0.7135 - val_loss: 0.5702 - val_acc: 0.7214\n",
      "Epoch 20/100\n",
      "768/768 [==============================] - 0s 135us/step - loss: 0.5775 - acc: 0.7122 - val_loss: 0.5679 - val_acc: 0.7305\n",
      "Epoch 21/100\n",
      "768/768 [==============================] - 0s 131us/step - loss: 0.5733 - acc: 0.7188 - val_loss: 0.5639 - val_acc: 0.7279\n",
      "Epoch 22/100\n",
      "768/768 [==============================] - 0s 140us/step - loss: 0.5739 - acc: 0.7096 - val_loss: 0.6010 - val_acc: 0.7070\n",
      "Epoch 23/100\n",
      "768/768 [==============================] - 0s 156us/step - loss: 0.5710 - acc: 0.7161 - val_loss: 0.5658 - val_acc: 0.7305\n",
      "Epoch 24/100\n",
      "768/768 [==============================] - 0s 184us/step - loss: 0.5685 - acc: 0.7201 - val_loss: 0.5557 - val_acc: 0.7344\n",
      "Epoch 25/100\n",
      "768/768 [==============================] - 0s 164us/step - loss: 0.5656 - acc: 0.7135 - val_loss: 0.6089 - val_acc: 0.6927\n",
      "Epoch 26/100\n",
      "768/768 [==============================] - 0s 165us/step - loss: 0.5710 - acc: 0.7174 - val_loss: 0.5578 - val_acc: 0.7253\n",
      "Epoch 27/100\n",
      "768/768 [==============================] - 0s 177us/step - loss: 0.5571 - acc: 0.7201 - val_loss: 0.5726 - val_acc: 0.7201\n",
      "Epoch 28/100\n",
      "768/768 [==============================] - 0s 155us/step - loss: 0.5589 - acc: 0.7331 - val_loss: 0.5525 - val_acc: 0.7305\n",
      "Epoch 29/100\n",
      "768/768 [==============================] - 0s 146us/step - loss: 0.5564 - acc: 0.7370 - val_loss: 0.5482 - val_acc: 0.7344\n",
      "Epoch 30/100\n",
      "768/768 [==============================] - 0s 141us/step - loss: 0.5534 - acc: 0.7253 - val_loss: 0.5643 - val_acc: 0.7214\n",
      "Epoch 31/100\n",
      "768/768 [==============================] - 0s 144us/step - loss: 0.5573 - acc: 0.7174 - val_loss: 0.5511 - val_acc: 0.7318\n",
      "Epoch 32/100\n",
      "768/768 [==============================] - 0s 138us/step - loss: 0.5554 - acc: 0.7292 - val_loss: 0.5525 - val_acc: 0.7279\n",
      "Epoch 33/100\n",
      "768/768 [==============================] - 0s 144us/step - loss: 0.5515 - acc: 0.7370 - val_loss: 0.5558 - val_acc: 0.7227\n",
      "Epoch 34/100\n",
      "768/768 [==============================] - 0s 142us/step - loss: 0.5529 - acc: 0.7214 - val_loss: 0.5428 - val_acc: 0.7357\n",
      "Epoch 35/100\n",
      "768/768 [==============================] - 0s 166us/step - loss: 0.5522 - acc: 0.7240 - val_loss: 0.5482 - val_acc: 0.7292\n",
      "Epoch 36/100\n",
      "768/768 [==============================] - 0s 193us/step - loss: 0.5501 - acc: 0.7201 - val_loss: 0.5386 - val_acc: 0.7357\n",
      "Epoch 37/100\n",
      "768/768 [==============================] - 0s 190us/step - loss: 0.5457 - acc: 0.7344 - val_loss: 0.5627 - val_acc: 0.7240\n",
      "Epoch 38/100\n",
      "768/768 [==============================] - 0s 171us/step - loss: 0.5431 - acc: 0.7331 - val_loss: 0.5849 - val_acc: 0.6927\n",
      "Epoch 39/100\n",
      "768/768 [==============================] - 0s 149us/step - loss: 0.5499 - acc: 0.7305 - val_loss: 0.5388 - val_acc: 0.7396\n",
      "Epoch 40/100\n",
      "768/768 [==============================] - 0s 157us/step - loss: 0.5433 - acc: 0.7357 - val_loss: 0.5537 - val_acc: 0.7292\n",
      "Epoch 41/100\n",
      "768/768 [==============================] - 0s 149us/step - loss: 0.5420 - acc: 0.7422 - val_loss: 0.5416 - val_acc: 0.7305\n",
      "Epoch 42/100\n",
      "768/768 [==============================] - 0s 144us/step - loss: 0.5518 - acc: 0.7266 - val_loss: 0.5385 - val_acc: 0.7331\n",
      "Epoch 43/100\n",
      "768/768 [==============================] - 0s 200us/step - loss: 0.5345 - acc: 0.7422 - val_loss: 0.5636 - val_acc: 0.7266\n",
      "Epoch 44/100\n",
      "768/768 [==============================] - 0s 190us/step - loss: 0.5429 - acc: 0.7344 - val_loss: 0.5292 - val_acc: 0.7461\n",
      "Epoch 45/100\n",
      "768/768 [==============================] - 0s 190us/step - loss: 0.5404 - acc: 0.7253 - val_loss: 0.5300 - val_acc: 0.7383\n",
      "Epoch 46/100\n",
      "768/768 [==============================] - 0s 162us/step - loss: 0.5434 - acc: 0.7396 - val_loss: 0.5290 - val_acc: 0.7422\n",
      "Epoch 47/100\n",
      "768/768 [==============================] - 0s 159us/step - loss: 0.5411 - acc: 0.7396 - val_loss: 0.5420 - val_acc: 0.7396\n",
      "Epoch 48/100\n",
      "768/768 [==============================] - 0s 152us/step - loss: 0.5379 - acc: 0.7383 - val_loss: 0.5627 - val_acc: 0.7279\n",
      "Epoch 49/100\n",
      "768/768 [==============================] - 0s 142us/step - loss: 0.5384 - acc: 0.7409 - val_loss: 0.5349 - val_acc: 0.7435\n",
      "Epoch 50/100\n",
      "768/768 [==============================] - 0s 160us/step - loss: 0.5396 - acc: 0.7383 - val_loss: 0.5340 - val_acc: 0.7435\n",
      "Epoch 51/100\n",
      "768/768 [==============================] - 0s 184us/step - loss: 0.5351 - acc: 0.7396 - val_loss: 0.5235 - val_acc: 0.7474\n",
      "Epoch 52/100\n",
      "768/768 [==============================] - 0s 163us/step - loss: 0.5325 - acc: 0.7552 - val_loss: 0.5248 - val_acc: 0.7461\n",
      "Epoch 53/100\n",
      "768/768 [==============================] - 0s 202us/step - loss: 0.5398 - acc: 0.7409 - val_loss: 0.5441 - val_acc: 0.7292\n",
      "Epoch 54/100\n",
      "768/768 [==============================] - 0s 184us/step - loss: 0.5353 - acc: 0.7396 - val_loss: 0.5265 - val_acc: 0.7357\n",
      "Epoch 55/100\n",
      "768/768 [==============================] - 0s 177us/step - loss: 0.5353 - acc: 0.7487 - val_loss: 0.5308 - val_acc: 0.7448\n",
      "Epoch 56/100\n",
      "768/768 [==============================] - 0s 160us/step - loss: 0.5317 - acc: 0.7357 - val_loss: 0.5217 - val_acc: 0.7435\n",
      "Epoch 57/100\n",
      "768/768 [==============================] - 0s 145us/step - loss: 0.5327 - acc: 0.7396 - val_loss: 0.5400 - val_acc: 0.7318\n",
      "Epoch 58/100\n",
      "768/768 [==============================] - 0s 160us/step - loss: 0.5315 - acc: 0.7461 - val_loss: 0.5210 - val_acc: 0.7591\n",
      "Epoch 59/100\n",
      "768/768 [==============================] - 0s 146us/step - loss: 0.5302 - acc: 0.7487 - val_loss: 0.5199 - val_acc: 0.7396\n",
      "Epoch 60/100\n",
      "768/768 [==============================] - 0s 143us/step - loss: 0.5369 - acc: 0.7279 - val_loss: 0.5209 - val_acc: 0.7500\n"
     ]
    },
    {
     "name": "stdout",
     "output_type": "stream",
     "text": [
      "Epoch 61/100\n",
      "768/768 [==============================] - 0s 134us/step - loss: 0.5277 - acc: 0.7344 - val_loss: 0.5272 - val_acc: 0.7539\n",
      "Epoch 62/100\n",
      "768/768 [==============================] - 0s 151us/step - loss: 0.5290 - acc: 0.7500 - val_loss: 0.5294 - val_acc: 0.7383\n",
      "Epoch 63/100\n",
      "768/768 [==============================] - 0s 195us/step - loss: 0.5296 - acc: 0.7474 - val_loss: 0.5128 - val_acc: 0.7552\n",
      "Epoch 64/100\n",
      "768/768 [==============================] - 0s 137us/step - loss: 0.5264 - acc: 0.7396 - val_loss: 0.5402 - val_acc: 0.7448\n",
      "Epoch 65/100\n",
      "768/768 [==============================] - 0s 217us/step - loss: 0.5266 - acc: 0.7526 - val_loss: 0.5161 - val_acc: 0.7565\n",
      "Epoch 66/100\n",
      "768/768 [==============================] - 0s 162us/step - loss: 0.5246 - acc: 0.7461 - val_loss: 0.5526 - val_acc: 0.7305\n",
      "Epoch 67/100\n",
      "768/768 [==============================] - 0s 155us/step - loss: 0.5282 - acc: 0.7604 - val_loss: 0.5103 - val_acc: 0.7578\n",
      "Epoch 68/100\n",
      "768/768 [==============================] - 0s 146us/step - loss: 0.5246 - acc: 0.7383 - val_loss: 0.5198 - val_acc: 0.7591\n",
      "Epoch 69/100\n",
      "768/768 [==============================] - 0s 131us/step - loss: 0.5215 - acc: 0.7422 - val_loss: 0.5122 - val_acc: 0.7578\n",
      "Epoch 70/100\n",
      "768/768 [==============================] - 0s 132us/step - loss: 0.5230 - acc: 0.7500 - val_loss: 0.5102 - val_acc: 0.7552\n",
      "Epoch 71/100\n",
      "768/768 [==============================] - 0s 163us/step - loss: 0.5172 - acc: 0.7617 - val_loss: 0.5076 - val_acc: 0.7591\n",
      "Epoch 72/100\n",
      "768/768 [==============================] - 0s 163us/step - loss: 0.5205 - acc: 0.7565 - val_loss: 0.5126 - val_acc: 0.7487\n",
      "Epoch 73/100\n",
      "768/768 [==============================] - 0s 216us/step - loss: 0.5190 - acc: 0.7526 - val_loss: 0.5200 - val_acc: 0.7552\n",
      "Epoch 74/100\n",
      "768/768 [==============================] - 0s 155us/step - loss: 0.5181 - acc: 0.7474 - val_loss: 0.5101 - val_acc: 0.7643\n",
      "Epoch 75/100\n",
      "768/768 [==============================] - 0s 131us/step - loss: 0.5184 - acc: 0.7474 - val_loss: 0.5166 - val_acc: 0.7487\n",
      "Epoch 76/100\n",
      "768/768 [==============================] - 0s 127us/step - loss: 0.5185 - acc: 0.7383 - val_loss: 0.5189 - val_acc: 0.7617\n",
      "Epoch 77/100\n",
      "768/768 [==============================] - 0s 141us/step - loss: 0.5193 - acc: 0.7552 - val_loss: 0.5170 - val_acc: 0.7448\n",
      "Epoch 78/100\n",
      "768/768 [==============================] - 0s 154us/step - loss: 0.5145 - acc: 0.7565 - val_loss: 0.5044 - val_acc: 0.7578\n",
      "Epoch 79/100\n",
      "768/768 [==============================] - 0s 124us/step - loss: 0.5136 - acc: 0.7435 - val_loss: 0.5116 - val_acc: 0.7539\n",
      "Epoch 80/100\n",
      "768/768 [==============================] - 0s 128us/step - loss: 0.5217 - acc: 0.7461 - val_loss: 0.5456 - val_acc: 0.7279\n",
      "Epoch 81/100\n",
      "768/768 [==============================] - 0s 123us/step - loss: 0.5127 - acc: 0.7513 - val_loss: 0.5072 - val_acc: 0.7461\n",
      "Epoch 82/100\n",
      "768/768 [==============================] - 0s 144us/step - loss: 0.5108 - acc: 0.7461 - val_loss: 0.5068 - val_acc: 0.7591\n",
      "Epoch 83/100\n",
      "768/768 [==============================] - 0s 194us/step - loss: 0.5103 - acc: 0.7643 - val_loss: 0.5090 - val_acc: 0.7513\n",
      "Epoch 84/100\n",
      "768/768 [==============================] - 0s 160us/step - loss: 0.5122 - acc: 0.7383 - val_loss: 0.5159 - val_acc: 0.7552\n",
      "Epoch 85/100\n",
      "768/768 [==============================] - 0s 155us/step - loss: 0.5151 - acc: 0.7474 - val_loss: 0.5159 - val_acc: 0.7604\n",
      "Epoch 86/100\n",
      "768/768 [==============================] - 0s 158us/step - loss: 0.5140 - acc: 0.7474 - val_loss: 0.5032 - val_acc: 0.7539\n",
      "Epoch 87/100\n",
      "768/768 [==============================] - 0s 131us/step - loss: 0.5163 - acc: 0.7461 - val_loss: 0.4964 - val_acc: 0.7565\n",
      "Epoch 88/100\n",
      "768/768 [==============================] - 0s 128us/step - loss: 0.5123 - acc: 0.7500 - val_loss: 0.4990 - val_acc: 0.7604\n",
      "Epoch 89/100\n",
      "768/768 [==============================] - 0s 129us/step - loss: 0.5088 - acc: 0.7591 - val_loss: 0.5455 - val_acc: 0.7227\n",
      "Epoch 90/100\n",
      "768/768 [==============================] - 0s 128us/step - loss: 0.5090 - acc: 0.7513 - val_loss: 0.5012 - val_acc: 0.7526\n",
      "Epoch 91/100\n",
      "768/768 [==============================] - 0s 139us/step - loss: 0.5104 - acc: 0.7617 - val_loss: 0.5034 - val_acc: 0.7552\n",
      "Epoch 92/100\n",
      "768/768 [==============================] - 0s 136us/step - loss: 0.5116 - acc: 0.7591 - val_loss: 0.4945 - val_acc: 0.7695\n",
      "Epoch 93/100\n",
      "768/768 [==============================] - 0s 150us/step - loss: 0.5063 - acc: 0.7487 - val_loss: 0.4967 - val_acc: 0.7539\n",
      "Epoch 94/100\n",
      "768/768 [==============================] - 0s 148us/step - loss: 0.5087 - acc: 0.7630 - val_loss: 0.5376 - val_acc: 0.7383\n",
      "Epoch 95/100\n",
      "768/768 [==============================] - 0s 144us/step - loss: 0.5064 - acc: 0.7734 - val_loss: 0.5143 - val_acc: 0.7448\n",
      "Epoch 96/100\n",
      "768/768 [==============================] - 0s 142us/step - loss: 0.5073 - acc: 0.7591 - val_loss: 0.5250 - val_acc: 0.7578\n",
      "Epoch 97/100\n",
      "768/768 [==============================] - 0s 148us/step - loss: 0.5054 - acc: 0.7578 - val_loss: 0.5076 - val_acc: 0.7578\n",
      "Epoch 98/100\n",
      "768/768 [==============================] - 0s 143us/step - loss: 0.5071 - acc: 0.7565 - val_loss: 0.4979 - val_acc: 0.7604\n",
      "Epoch 99/100\n",
      "768/768 [==============================] - 0s 144us/step - loss: 0.5018 - acc: 0.7669 - val_loss: 0.5895 - val_acc: 0.6966\n",
      "Epoch 100/100\n",
      "768/768 [==============================] - 0s 137us/step - loss: 0.5071 - acc: 0.7578 - val_loss: 0.5016 - val_acc: 0.7682\n"
     ]
    },
    {
     "data": {
      "text/plain": [
       "<keras.callbacks.History at 0x1120a6a58>"
      ]
     },
     "execution_count": 7,
     "metadata": {},
     "output_type": "execute_result"
    }
   ],
   "source": [
    "#nb_epoch表示我们只训练100轮，batch_size表示每次批处理20个数据\n",
    "#这个地方加入callbacks，实现绘图\n",
    "model.fit(X,Y,epochs=100,batch_size=20,validation_data=(X,Y),callbacks=[history])"
   ]
  },
  {
   "cell_type": "code",
   "execution_count": 8,
   "metadata": {},
   "outputs": [
    {
     "name": "stdout",
     "output_type": "stream",
     "text": [
      "768/768 [==============================] - 0s 39us/step\n",
      "The loss： 0.501575570554\n",
      "The acc: 0.768229166667\n"
     ]
    }
   ],
   "source": [
    "#模型评估结果\n",
    "score=model.evaluate(X,Y)\n",
    "print('The loss：',score[0])\n",
    "print('The acc:',score[1])"
   ]
  },
  {
   "cell_type": "code",
   "execution_count": 9,
   "metadata": {},
   "outputs": [
    {
     "data": {
      "image/png": "[encoded data removed]",
      "text/plain": [
       "<Figure size 432x288 with 1 Axes>"
      ]
     },
     "metadata": {},
     "output_type": "display_data"
    }
   ],
   "source": [
    "#绘制acc-loss曲线\n",
    "history.loss_plot('epoch')"
   ]
  },
  {
   "cell_type": "code",
   "execution_count": null,
   "metadata": {},
   "outputs": [],
   "source": []
  }
 ],
 "metadata": {
  "kernelspec": {
   "display_name": "Python 3",
   "language": "python",
   "name": "python3"
  },
  "language_info": {
   "codemirror_mode": {
    "name": "ipython",
    "version": 3
   },
   "file_extension": ".py",
   "mimetype": "text/x-python",
   "name": "python",
   "nbconvert_exporter": "python",
   "pygments_lexer": "ipython3",
   "version": "3.6.5"
  }
 },
 "nbformat": 4,
 "nbformat_minor": 1
}
