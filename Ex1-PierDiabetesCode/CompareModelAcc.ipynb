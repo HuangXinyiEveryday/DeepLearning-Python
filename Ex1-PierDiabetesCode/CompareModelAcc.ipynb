{
 "cells": [
  {
   "cell_type": "code",
   "execution_count": null,
   "metadata": {
    "collapsed": true
   },
   "outputs": [],
   "source": [
    "#对比交叉验证优化后的模型和原模型的预测准确度\n",
    "from keras.models import Sequential\n",
    "from keras.layers import Dense\n",
    "from keras.wrappers.scikit_learn import KerasClassifier\n",
    "from sklearn.model_selection import GridSearchCV\n",
    "import numpy as np\n",
    "import pandas as pd"
   ]
  },
  {
   "cell_type": "code",
   "execution_count": null,
   "metadata": {},
   "outputs": [],
   "source": [
    "#随机化并加载数据\n",
    "seed=7\n",
    "np.random.seed(seed)\n",
    "dataset=pd.read_csv(\"diabetes.csv\")\n",
    "X=dataset.iloc[:,0:8]\n",
    "Y=dataset.iloc[:,8]"
   ]
  },
  {
   "cell_type": "code",
   "execution_count": null,
   "metadata": {},
   "outputs": [],
   "source": [
    "#创建优化前模型\n",
    "modelbefore=Sequential()#实例化Sequential 模型对象\n",
    "#input_dim设置输入层数量，设置为8代表8个输入变量;第一个参数为本层神经元的数量\n",
    "#init=uniform表示权重初始化成一个服从均匀分布的小随机数。Keras 标准均匀分布权重初始值[0,0.5];\n",
    "#init=normal则表示从高斯分布（正态分布）中产生一个小的随机数进行权重初始化。\n",
    "#activation='relu'使用线性整流函数relu，sigmoid是S型函数作为激活函数\n",
    "modelbefore.add(Dense(12,input_dim=8,kernel_initializer='uniform',activation='relu'))\n",
    "modelbefore.add(Dense(8,kernel_initializer='uniform',activation='relu'))\n",
    "modelbefore.add(Dense(1,kernel_initializer='uniform',activation='sigmoid'))"
   ]
  },
  {
   "cell_type": "code",
   "execution_count": null,
   "metadata": {},
   "outputs": [],
   "source": [
    "#创建优化后模型\n",
    "modelback=Sequential()\n",
    "modelback.add(Dense(12,input_dim=8,kernel_initializer='normal',activation='relu'))\n",
    "modelback.add(Dense(8,kernel_initializer='normal',activation='relu'))\n",
    "modelback.add(Dense(1,kernel_initializer='normal',activation='sigmoid'))"
   ]
  },
  {
   "cell_type": "code",
   "execution_count": null,
   "metadata": {},
   "outputs": [],
   "source": [
    "#编译优化前模型\n",
    "#定义损失函数和优化算法以及需要收集的数据，‘binary_crossentropy’错误的对数作为损失函数，adam作为优化算法\n",
    "modelbefore.compile(loss='binary_crossentropy',optimizer='adam', metrics=['accuracy'])#训练模型\n",
    "#epochs表示我们优化前训练150轮，batch_size表示每次批处理10个数据\n",
    "modelbefore.fit(X,Y,epochs=150,batch_size=10)"
   ]
  },
  {
   "cell_type": "code",
   "execution_count": null,
   "metadata": {},
   "outputs": [],
   "source": [
    "#编译优化后模型\n",
    "modelback.compile(loss='binary_crossentropy',optimizer='adam', metrics=['accuracy'])#训练模型\n",
    "#epochs表示我们优化后训练100轮，batch_size表示每次批处理20个数据\n",
    "modelback.fit(X,Y,epochs=100,batch_size=20)"
   ]
  },
  {
   "cell_type": "code",
   "execution_count": null,
   "metadata": {},
   "outputs": [],
   "source": [
    "#预测模型，优化前后准确率对比\n",
    "predictionbefore=modelbefore.predict_classes(X)\n",
    "scorebefore=modelbefore.evaluate(X,Y)\n",
    "scoreback=modelback.evaluate(X,Y)\n",
    "#打印准确率\n",
    "print('优化前:',scorebefore,'优化后',scoreback)"
   ]
  }
 ],
 "metadata": {
  "kernelspec": {
   "display_name": "Python 2",
   "language": "python",
   "name": "python2"
  },
  "language_info": {
   "codemirror_mode": {
    "name": "ipython",
    "version": 2
   },
   "file_extension": ".py",
   "mimetype": "text/x-python",
   "name": "python",
   "nbconvert_exporter": "python",
   "pygments_lexer": "ipython2",
   "version": "2.7.6"
  }
 },
 "nbformat": 4,
 "nbformat_minor": 0
}
