{
 "cells": [
  {
   "cell_type": "code",
   "execution_count": 1,
   "metadata": {},
   "outputs": [
    {
     "name": "stderr",
     "output_type": "stream",
     "text": [
      "Using TensorFlow backend.\n"
     ]
    },
    {
     "ename": "ImportError",
     "evalue": "No module named 'sklearn'",
     "output_type": "error",
     "traceback": [
      "\u001b[0;31m---------------------------------------------------------------------------\u001b[0m",
      "\u001b[0;31mImportError\u001b[0m                               Traceback (most recent call last)",
      "\u001b[0;32m<ipython-input-1-f09eb7e7b459>\u001b[0m in \u001b[0;36m<module>\u001b[0;34m()\u001b[0m\n\u001b[1;32m      3\u001b[0m \u001b[0;32mfrom\u001b[0m \u001b[0mkeras\u001b[0m\u001b[0;34m.\u001b[0m\u001b[0mlayers\u001b[0m \u001b[0;32mimport\u001b[0m \u001b[0mDense\u001b[0m\u001b[0;34m\u001b[0m\u001b[0m\n\u001b[1;32m      4\u001b[0m \u001b[0;32mfrom\u001b[0m \u001b[0mkeras\u001b[0m\u001b[0;34m.\u001b[0m\u001b[0mwrappers\u001b[0m\u001b[0;34m.\u001b[0m\u001b[0mscikit_learn\u001b[0m \u001b[0;32mimport\u001b[0m \u001b[0mKerasClassifier\u001b[0m\u001b[0;34m\u001b[0m\u001b[0m\n\u001b[0;32m----> 5\u001b[0;31m \u001b[0;32mfrom\u001b[0m \u001b[0msklearn\u001b[0m\u001b[0;34m.\u001b[0m\u001b[0mmodel_selection\u001b[0m \u001b[0;32mimport\u001b[0m \u001b[0mGridSearchCV\u001b[0m\u001b[0;34m\u001b[0m\u001b[0m\n\u001b[0m\u001b[1;32m      6\u001b[0m \u001b[0;32mimport\u001b[0m \u001b[0mnumpy\u001b[0m \u001b[0;32mas\u001b[0m \u001b[0mnp\u001b[0m\u001b[0;34m\u001b[0m\u001b[0m\n\u001b[1;32m      7\u001b[0m \u001b[0;32mimport\u001b[0m \u001b[0mpandas\u001b[0m \u001b[0;32mas\u001b[0m \u001b[0mpd\u001b[0m\u001b[0;34m\u001b[0m\u001b[0m\n",
      "\u001b[0;31mImportError\u001b[0m: No module named 'sklearn'"
     ]
    }
   ],
   "source": [
    "#网格搜索，优化神经网络参数\n",
    "from keras.models import Sequential\n",
    "from keras.layers import Dense\n",
    "from keras.wrappers.scikit_learn import KerasClassifier\n",
    "from sklearn.model_selection import GridSearchCV\n",
    "import numpy as np\n",
    "import pandas as pd"
   ]
  },
  {
   "cell_type": "code",
   "execution_count": null,
   "metadata": {},
   "outputs": [],
   "source": [
    "#创建模型,传入参数，分析哪组参数结果最好，优化模型\n",
    "def create_model(optimizer='rmsprop', init='glorot_uniform'):\n",
    "\n",
    "    model = Sequential()\n",
    "    model.add(Dense(12, input_dim=8, kernel_initializer=init, activation='relu')) \n",
    "    model.add(Dense(8, kernel_initializer=init, activation='relu')) \n",
    "    model.add(Dense(1, kernel_initializer=init, activation='sigmoid'))\n",
    "\n",
    "    model.compile(loss='binary_crossentropy', optimizer=optimizer, metrics=['accuracy']) \n",
    "    return model"
   ]
  },
  {
   "cell_type": "code",
   "execution_count": null,
   "metadata": {},
   "outputs": [],
   "source": [
    "#随机化并加载数据\n",
    "seed=7\n",
    "np.random.seed(seed)\n",
    "dataset=pd.read_csv(\"diabetes.csv\")\n",
    "X=dataset.iloc[:,0:8]\n",
    "Y=dataset.iloc[:,8]"
   ]
  },
  {
   "cell_type": "code",
   "execution_count": 2,
   "metadata": {},
   "outputs": [
    {
     "ename": "NameError",
     "evalue": "name 'create_model' is not defined",
     "output_type": "error",
     "traceback": [
      "\u001b[0;31m---------------------------------------------------------------------------\u001b[0m",
      "\u001b[0;31mNameError\u001b[0m                                 Traceback (most recent call last)",
      "\u001b[0;32m<ipython-input-2-3a4c9548b611>\u001b[0m in \u001b[0;36m<module>\u001b[0;34m()\u001b[0m\n\u001b[1;32m      1\u001b[0m \u001b[0;31m#测试不同参数，优化模型\u001b[0m\u001b[0;34m\u001b[0m\u001b[0;34m\u001b[0m\u001b[0m\n\u001b[0;32m----> 2\u001b[0;31m \u001b[0mmodel\u001b[0m\u001b[0;34m=\u001b[0m\u001b[0mKerasClassifier\u001b[0m\u001b[0;34m(\u001b[0m\u001b[0mbuild_fn\u001b[0m\u001b[0;34m=\u001b[0m\u001b[0mcreate_model\u001b[0m\u001b[0;34m,\u001b[0m \u001b[0mnb_epoch\u001b[0m\u001b[0;34m=\u001b[0m\u001b[0;36m150\u001b[0m\u001b[0;34m,\u001b[0m \u001b[0mbatch_size\u001b[0m\u001b[0;34m=\u001b[0m\u001b[0;36m10\u001b[0m\u001b[0;34m)\u001b[0m\u001b[0;34m\u001b[0m\u001b[0m\n\u001b[0m\u001b[1;32m      3\u001b[0m \u001b[0moptimizers\u001b[0m \u001b[0;34m=\u001b[0m \u001b[0;34m[\u001b[0m\u001b[0;34m'rmsprop'\u001b[0m\u001b[0;34m,\u001b[0m \u001b[0;34m'adam'\u001b[0m\u001b[0;34m]\u001b[0m\u001b[0;31m#优化算法\u001b[0m\u001b[0;34m\u001b[0m\u001b[0m\n\u001b[1;32m      4\u001b[0m \u001b[0minit\u001b[0m \u001b[0;34m=\u001b[0m \u001b[0;34m[\u001b[0m\u001b[0;34m'glorot_uniform'\u001b[0m\u001b[0;34m,\u001b[0m \u001b[0;34m'normal'\u001b[0m\u001b[0;34m,\u001b[0m \u001b[0;34m'uniform'\u001b[0m\u001b[0;34m]\u001b[0m\u001b[0;31m#权重初始化算法\u001b[0m\u001b[0;34m\u001b[0m\u001b[0m\n\u001b[1;32m      5\u001b[0m \u001b[0mepochs\u001b[0m \u001b[0;34m=\u001b[0m \u001b[0mnp\u001b[0m\u001b[0;34m.\u001b[0m\u001b[0marray\u001b[0m\u001b[0;34m(\u001b[0m\u001b[0;34m[\u001b[0m\u001b[0;36m50\u001b[0m\u001b[0;34m,\u001b[0m \u001b[0;36m100\u001b[0m\u001b[0;34m,\u001b[0m \u001b[0;36m150\u001b[0m\u001b[0;34m]\u001b[0m\u001b[0;34m)\u001b[0m\u001b[0;31m#训练轮数\u001b[0m\u001b[0;34m\u001b[0m\u001b[0m\n",
      "\u001b[0;31mNameError\u001b[0m: name 'create_model' is not defined"
     ]
    }
   ],
   "source": [
    "#测试不同参数，优化模型\n",
    "model=KerasClassifier(build_fn=create_model, nb_epoch=150, batch_size=10)\n",
    "optimizers = ['rmsprop', 'adam']#优化算法\n",
    "init = ['glorot_uniform', 'normal', 'uniform']#权重初始化算法\n",
    "epochs = np.array([50, 100, 150])#训练轮数\n",
    "batches = np.array([5, 10, 20])#一次批处理几条数据\n",
    "param_grid = dict(optimizer=optimizers, nb_epoch=epochs, batch_size=batches, init=init) \n",
    "#创建GridSearchCV，用来进行不同参数数据分析\n",
    "grid = GridSearchCV(estimator=model, param_grid=param_grid)\n",
    "grid_result = grid.fit(X, Y)\n"
   ]
  },
  {
   "cell_type": "code",
   "execution_count": 5,
   "metadata": {
    "collapsed": true
   },
   "outputs": [
    {
     "name": "stdout",
     "output_type": "stream",
     "text": [
      "Best: 0.654948 using {'batch_size': 20, 'optimizer': 'adam', 'init': 'normal', 'nb_epoch': 100}\n",
      "0.610677 (0.050463) with: {'batch_size': 5, 'optimizer': 'rmsprop', 'init': 'glorot_uniform', 'nb_epoch': 50}\n",
      "0.631510 (0.031304) with: {'batch_size': 5, 'optimizer': 'adam', 'init': 'glorot_uniform', 'nb_epoch': 50}\n",
      "0.585938 (0.046983) with: {'batch_size': 5, 'optimizer': 'rmsprop', 'init': 'glorot_uniform', 'nb_epoch': 100}\n",
      "0.630208 (0.025582) with: {'batch_size': 5, 'optimizer': 'adam', 'init': 'glorot_uniform', 'nb_epoch': 100}\n",
      "0.351563 (0.024080) with: {'batch_size': 5, 'optimizer': 'rmsprop', 'init': 'glorot_uniform', 'nb_epoch': 150}\n",
      "0.558594 (0.037603) with: {'batch_size': 5, 'optimizer': 'adam', 'init': 'glorot_uniform', 'nb_epoch': 150}\n",
      "0.651042 (0.024774) with: {'batch_size': 5, 'optimizer': 'rmsprop', 'init': 'normal', 'nb_epoch': 50}\n",
      "0.651042 (0.024774) with: {'batch_size': 5, 'optimizer': 'adam', 'init': 'normal', 'nb_epoch': 50}\n",
      "0.652344 (0.026107) with: {'batch_size': 5, 'optimizer': 'rmsprop', 'init': 'normal', 'nb_epoch': 100}\n",
      "0.652344 (0.025315) with: {'batch_size': 5, 'optimizer': 'adam', 'init': 'normal', 'nb_epoch': 100}\n",
      "0.651042 (0.024774) with: {'batch_size': 5, 'optimizer': 'rmsprop', 'init': 'normal', 'nb_epoch': 150}\n",
      "0.651042 (0.024774) with: {'batch_size': 5, 'optimizer': 'adam', 'init': 'normal', 'nb_epoch': 150}\n",
      "0.651042 (0.024774) with: {'batch_size': 5, 'optimizer': 'rmsprop', 'init': 'uniform', 'nb_epoch': 50}\n",
      "0.651042 (0.024774) with: {'batch_size': 5, 'optimizer': 'adam', 'init': 'uniform', 'nb_epoch': 50}\n",
      "0.651042 (0.024774) with: {'batch_size': 5, 'optimizer': 'rmsprop', 'init': 'uniform', 'nb_epoch': 100}\n",
      "0.651042 (0.024774) with: {'batch_size': 5, 'optimizer': 'adam', 'init': 'uniform', 'nb_epoch': 100}\n",
      "0.651042 (0.024774) with: {'batch_size': 5, 'optimizer': 'rmsprop', 'init': 'uniform', 'nb_epoch': 150}\n",
      "0.651042 (0.024774) with: {'batch_size': 5, 'optimizer': 'adam', 'init': 'uniform', 'nb_epoch': 150}\n",
      "0.645833 (0.031948) with: {'batch_size': 10, 'optimizer': 'rmsprop', 'init': 'glorot_uniform', 'nb_epoch': 50}\n",
      "0.505208 (0.025780) with: {'batch_size': 10, 'optimizer': 'adam', 'init': 'glorot_uniform', 'nb_epoch': 50}\n",
      "0.579427 (0.075228) with: {'batch_size': 10, 'optimizer': 'rmsprop', 'init': 'glorot_uniform', 'nb_epoch': 100}\n",
      "0.572917 (0.054718) with: {'batch_size': 10, 'optimizer': 'adam', 'init': 'glorot_uniform', 'nb_epoch': 100}\n",
      "0.533854 (0.035132) with: {'batch_size': 10, 'optimizer': 'rmsprop', 'init': 'glorot_uniform', 'nb_epoch': 150}\n",
      "0.479167 (0.138377) with: {'batch_size': 10, 'optimizer': 'adam', 'init': 'glorot_uniform', 'nb_epoch': 150}\n",
      "0.651042 (0.025780) with: {'batch_size': 10, 'optimizer': 'rmsprop', 'init': 'normal', 'nb_epoch': 50}\n",
      "0.651042 (0.024774) with: {'batch_size': 10, 'optimizer': 'adam', 'init': 'normal', 'nb_epoch': 50}\n",
      "0.651042 (0.024774) with: {'batch_size': 10, 'optimizer': 'rmsprop', 'init': 'normal', 'nb_epoch': 100}\n",
      "0.651042 (0.024774) with: {'batch_size': 10, 'optimizer': 'adam', 'init': 'normal', 'nb_epoch': 100}\n",
      "0.653646 (0.027498) with: {'batch_size': 10, 'optimizer': 'rmsprop', 'init': 'normal', 'nb_epoch': 150}\n",
      "0.651042 (0.024774) with: {'batch_size': 10, 'optimizer': 'adam', 'init': 'normal', 'nb_epoch': 150}\n",
      "0.651042 (0.024774) with: {'batch_size': 10, 'optimizer': 'rmsprop', 'init': 'uniform', 'nb_epoch': 50}\n",
      "0.651042 (0.024774) with: {'batch_size': 10, 'optimizer': 'adam', 'init': 'uniform', 'nb_epoch': 50}\n",
      "0.651042 (0.024774) with: {'batch_size': 10, 'optimizer': 'rmsprop', 'init': 'uniform', 'nb_epoch': 100}\n",
      "0.651042 (0.024774) with: {'batch_size': 10, 'optimizer': 'adam', 'init': 'uniform', 'nb_epoch': 100}\n",
      "0.651042 (0.024774) with: {'batch_size': 10, 'optimizer': 'rmsprop', 'init': 'uniform', 'nb_epoch': 150}\n",
      "0.651042 (0.024774) with: {'batch_size': 10, 'optimizer': 'adam', 'init': 'uniform', 'nb_epoch': 150}\n",
      "0.606771 (0.062201) with: {'batch_size': 20, 'optimizer': 'rmsprop', 'init': 'glorot_uniform', 'nb_epoch': 50}\n",
      "0.540365 (0.120624) with: {'batch_size': 20, 'optimizer': 'adam', 'init': 'glorot_uniform', 'nb_epoch': 50}\n",
      "0.561198 (0.076436) with: {'batch_size': 20, 'optimizer': 'rmsprop', 'init': 'glorot_uniform', 'nb_epoch': 100}\n",
      "0.571615 (0.133741) with: {'batch_size': 20, 'optimizer': 'adam', 'init': 'glorot_uniform', 'nb_epoch': 100}\n",
      "0.440104 (0.095168) with: {'batch_size': 20, 'optimizer': 'rmsprop', 'init': 'glorot_uniform', 'nb_epoch': 150}\n",
      "0.566406 (0.105734) with: {'batch_size': 20, 'optimizer': 'adam', 'init': 'glorot_uniform', 'nb_epoch': 150}\n",
      "0.651042 (0.024774) with: {'batch_size': 20, 'optimizer': 'rmsprop', 'init': 'normal', 'nb_epoch': 50}\n",
      "0.630208 (0.022628) with: {'batch_size': 20, 'optimizer': 'adam', 'init': 'normal', 'nb_epoch': 50}\n",
      "0.651042 (0.024774) with: {'batch_size': 20, 'optimizer': 'rmsprop', 'init': 'normal', 'nb_epoch': 100}\n",
      "0.654948 (0.025780) with: {'batch_size': 20, 'optimizer': 'adam', 'init': 'normal', 'nb_epoch': 100}\n",
      "0.651042 (0.024774) with: {'batch_size': 20, 'optimizer': 'rmsprop', 'init': 'normal', 'nb_epoch': 150}\n",
      "0.649740 (0.024360) with: {'batch_size': 20, 'optimizer': 'adam', 'init': 'normal', 'nb_epoch': 150}\n",
      "0.651042 (0.024774) with: {'batch_size': 20, 'optimizer': 'rmsprop', 'init': 'uniform', 'nb_epoch': 50}\n",
      "0.651042 (0.024774) with: {'batch_size': 20, 'optimizer': 'adam', 'init': 'uniform', 'nb_epoch': 50}\n",
      "0.651042 (0.024774) with: {'batch_size': 20, 'optimizer': 'rmsprop', 'init': 'uniform', 'nb_epoch': 100}\n",
      "0.651042 (0.024774) with: {'batch_size': 20, 'optimizer': 'adam', 'init': 'uniform', 'nb_epoch': 100}\n",
      "0.651042 (0.024774) with: {'batch_size': 20, 'optimizer': 'rmsprop', 'init': 'uniform', 'nb_epoch': 150}\n",
      "0.651042 (0.024774) with: {'batch_size': 20, 'optimizer': 'adam', 'init': 'uniform', 'nb_epoch': 150}\n"
     ]
    },
    {
     "name": "stderr",
     "output_type": "stream",
     "text": [
      "/Users/x/anaconda3/envs/ML/lib/python3.5/site-packages/sklearn/model_selection/_search.py:761: DeprecationWarning: The grid_scores_ attribute was deprecated in version 0.18 in favor of the more elaborate cv_results_ attribute. The grid_scores_ attribute will not be available from 0.20\n",
      "  DeprecationWarning)\n"
     ]
    }
   ],
   "source": [
    "#测试模型效果\n",
    "print(\"Best: %f using %s\" % (grid_result.best_score_, grid_result.best_params_))\n",
    "for params, mean_score, scores in grid_result.grid_scores_:\n",
    "    print(\"%f (%f) with: %r\" % (scores.mean(), scores.std(), params))"
   ]
  },
  {
   "cell_type": "code",
   "execution_count": null,
   "metadata": {},
   "outputs": [],
   "source": []
  }
 ],
 "metadata": {
  "kernelspec": {
   "display_name": "Python 3",
   "language": "python",
   "name": "python3"
  },
  "language_info": {
   "codemirror_mode": {
    "name": "ipython",
    "version": 3
   },
   "file_extension": ".py",
   "mimetype": "text/x-python",
   "name": "python",
   "nbconvert_exporter": "python",
   "pygments_lexer": "ipython3",
   "version": "3.5.5"
  }
 },
 "nbformat": 4,
 "nbformat_minor": 1
}
